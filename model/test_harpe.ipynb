{
 "cells": [
  {
   "cell_type": "markdown",
   "metadata": {},
   "source": [
    "# HARPE(T) Dataset Exploration"
   ]
  },
  {
   "cell_type": "code",
   "execution_count": 1,
   "metadata": {},
   "outputs": [],
   "source": [
    "import numpy as np\n",
    "import matplotlib.pyplot as plt\n",
    "import h5py\n",
    "import torch\n",
    "import torch.utils.data as data\n",
    "import torch.nn.functional as F\n",
    "from torch import nn\n",
    "import torch.optim as optim\n",
    "import torchvision.transforms as transforms\n",
    "import cv2 as cv\n",
    "from PIL import Image"
   ]
  },
  {
   "cell_type": "code",
   "execution_count": 2,
   "metadata": {},
   "outputs": [],
   "source": [
    "class H5Dataset(data.Dataset):\n",
    "\n",
    "    def __init__(self, file_path):\n",
    "        super(H5Dataset, self).__init__()\n",
    "        h5_file = h5py.File(file_path + \".h5\", 'r')\n",
    "        # Extract filenames\n",
    "        # TODO: filter filenames based on action\n",
    "        path = \"/\".join(file_path.split('/')[:-1])\n",
    "        path += \"/images_\" + file_path.split(\"_\")[-1] + \"/\"\n",
    "        filenames = h5_file.get('imgname')\n",
    "        shape = filenames.shape\n",
    "        filenames = np.array([chr(letter) for item in filenames for letter in item.astype(int)])\n",
    "        self.data = np.array([np.array(Image.open(path + \"\".join(fname)).resize((224, 224))) for fname in filenames.reshape(shape)])\n",
    "        self.target = h5_file.get('part')\n",
    "        \n",
    "    def __getitem__(self, index):\n",
    "        return (torch.from_numpy(self.data[index,:,:,:]).float(),\n",
    "               torch.from_numpy(self.target[index,:,:,:]).float())\n",
    "    \n",
    "    def __len__(self):\n",
    "        return self.data.shape[0]"
   ]
  },
  {
   "cell_type": "code",
   "execution_count": 3,
   "metadata": {},
   "outputs": [],
   "source": [
    "path = \"../../../datasets/VIP-HARPET/annot_\"\n",
    "Htest = H5Dataset(path + \"test\")\n",
    "Htrain = H5Dataset(path + \"train\")\n",
    "Hvalid = H5Dataset(path + \"valid\")"
   ]
  },
  {
   "cell_type": "code",
   "execution_count": 4,
   "metadata": {},
   "outputs": [],
   "source": [
    "# Joint ordering: 18 joints total (including stick)\n",
    "#\n",
    "N = 18\n",
    "pairs = [[0, 1],\n",
    "         [1, 2],\n",
    "         [2, 6],\n",
    "         [3, 4],\n",
    "         [3, 6],\n",
    "         [4, 5],\n",
    "         [6, 8],\n",
    "         [8, 9],\n",
    "         [12, 8],\n",
    "         [10, 11],\n",
    "         [11, 12],\n",
    "         [10, 16],\n",
    "         [16, 17],\n",
    "         [13, 8],\n",
    "         [13, 14],\n",
    "         [14, 15]]"
   ]
  },
  {
   "cell_type": "markdown",
   "metadata": {},
   "source": [
    "## NVIDIA trt_pose"
   ]
  },
  {
   "cell_type": "code",
   "execution_count": 5,
   "metadata": {},
   "outputs": [],
   "source": [
    "from PIL import Image\n",
    "import torch2trt\n",
    "from torch2trt import TRTModule\n",
    "from trt_pose import coco, models\n",
    "from trt_pose.draw_objects import DrawObjects\n",
    "from trt_pose.parse_objects import ParseObjects\n",
    "from jetcam.usb_camera import USBCamera\n",
    "from jetcam.utils import bgr8_to_jpeg\n",
    "import ipywidgets\n",
    "from IPython.display import display\n",
    "import freenect\n",
    "import json\n",
    "import time\n",
    "import signal\n",
    "import sys"
   ]
  },
  {
   "cell_type": "code",
   "execution_count": 6,
   "metadata": {},
   "outputs": [],
   "source": [
    "MODEL_WEIGHTS = 'resnet18_baseline_att_224x224_A_epoch_249.pth'\n",
    "OPTIMIZED_MODEL = 'resnet18_baseline_att_224x224_A_epoch_249_trt.pth'\n",
    "WIDTH = 224\n",
    "HEIGHT = 224"
   ]
  },
  {
   "cell_type": "code",
   "execution_count": 7,
   "metadata": {},
   "outputs": [],
   "source": [
    "mean = torch.Tensor([0.485, 0.456, 0.406]).cuda()\n",
    "std = torch.Tensor([0.229, 0.224, 0.225]).cuda()\n",
    "device = torch.device('cuda')\n",
    "\n",
    "image_w = ipywidgets.Image(format='jpeg')"
   ]
  },
  {
   "cell_type": "code",
   "execution_count": 8,
   "metadata": {},
   "outputs": [],
   "source": [
    "# libfreenect capture functions\n",
    "def get_video():\n",
    "    array,_ = freenect.sync_get_video()\n",
    "    array = cv2.cvtColor(array,cv2.COLOR_RGB2BGR)\n",
    "    return array\n",
    "\n",
    "def get_depth():\n",
    "    array,_ = freenect.sync_get_depth()\n",
    "    array = array.astype(np.uint8)\n",
    "    return array\n",
    "\n",
    "def benchmark(frame_count=50.0):\n",
    "    # Return FPS for current model\n",
    "    t0 = time.time()\n",
    "    torch.cuda.current_stream().synchronize()\n",
    "    for i in range(frame_count):\n",
    "        y = model_trt(data)\n",
    "    torch.cuda.current_stream().synchronize()\n",
    "    t1 = time.time()\n",
    "    return frame_count / (t1 - t0)\n",
    "\n",
    "def preprocess(image):\n",
    "    global device\n",
    "    device = torch.device('cuda')\n",
    "    image = cv.cvtColor(image, cv.COLOR_BGR2RGB)\n",
    "    image = Image.fromarray(image)\n",
    "    image = transforms.functional.to_tensor(image).to(device)\n",
    "    image.sub_(mean[:, None, None]).div_(std[:, None, None])\n",
    "    return image[None, ...]\n",
    "\n",
    "def execute(image):\n",
    "#     image = change['new']\n",
    "    data = preprocess(image)\n",
    "    cmap, paf = model_trt(data)\n",
    "    cmap, paf = cmap.detach().cpu(), paf.detach().cpu()\n",
    "    counts, objects, peaks = parse_objects(cmap, paf)#, cmap_threshold=0.15, link_threshold=0.15)\n",
    "    draw_objects(image, counts, objects, peaks)\n",
    "    image_w.value = bgr8_to_jpeg(image[:, ::-1, :])"
   ]
  },
  {
   "cell_type": "code",
   "execution_count": 9,
   "metadata": {},
   "outputs": [],
   "source": [
    "with open('human_pose.json', 'r') as f:\n",
    "    human_pose = json.load(f)"
   ]
  },
  {
   "cell_type": "code",
   "execution_count": 10,
   "metadata": {},
   "outputs": [
    {
     "name": "stdout",
     "output_type": "stream",
     "text": [
      "Pretty printing has been turned OFF\n"
     ]
    }
   ],
   "source": [
    "%pprint"
   ]
  },
  {
   "cell_type": "code",
   "execution_count": 11,
   "metadata": {},
   "outputs": [
    {
     "data": {
      "text/plain": [
       "{'supercategory': 'person', 'id': 1, 'name': 'person', 'keypoints': ['nose', 'left_eye', 'right_eye', 'left_ear', 'right_ear', 'left_shoulder', 'right_shoulder', 'left_elbow', 'right_elbow', 'left_wrist', 'right_wrist', 'left_hip', 'right_hip', 'left_knee', 'right_knee', 'left_ankle', 'right_ankle', 'neck'], 'skeleton': [[16, 14], [14, 12], [17, 15], [15, 13], [12, 13], [6, 8], [7, 9], [8, 10], [9, 11], [2, 3], [1, 2], [1, 3], [2, 4], [3, 5], [4, 6], [5, 7], [18, 1], [18, 6], [18, 7], [18, 12], [18, 13]]}"
      ]
     },
     "execution_count": 11,
     "metadata": {},
     "output_type": "execute_result"
    }
   ],
   "source": [
    "#TODO:\n",
    "# - use 'nose' marker as 'head' marker\n",
    "# - remove face markers from skeleton: 'left_eye', 'right_eye', 'left_ear', 'right_ear', ('neck')\n",
    "human_pose"
   ]
  },
  {
   "cell_type": "code",
   "execution_count": 12,
   "metadata": {},
   "outputs": [
    {
     "data": {
      "text/plain": [
       "<All keys matched successfully>"
      ]
     },
     "execution_count": 12,
     "metadata": {},
     "output_type": "execute_result"
    }
   ],
   "source": [
    "topology = coco.coco_category_to_topology(human_pose)\n",
    "num_parts = len(human_pose['keypoints'])\n",
    "num_links = len(human_pose['skeleton'])\n",
    "\n",
    "# Load model\n",
    "# TODO: extend model to include additional joints\n",
    "model = models.resnet18_baseline_att(num_parts, 2 * num_links).cuda().eval()\n",
    "model.load_state_dict(torch.load(MODEL_WEIGHTS))"
   ]
  },
  {
   "cell_type": "code",
   "execution_count": 13,
   "metadata": {},
   "outputs": [],
   "source": [
    "# Optimization with tensorRT\n",
    "# NOTE: optimization is device specific\n",
    "data = torch.zeros((1, 3, HEIGHT, WIDTH)).cuda()\n",
    "model_trt = torch2trt.torch2trt(model, [data], fp16_mode=True, max_workspace_size=1<<25)\n",
    "# torch.save(model_trt.state_dict(), OPTIMIZED_MODEL)"
   ]
  },
  {
   "cell_type": "code",
   "execution_count": 14,
   "metadata": {},
   "outputs": [],
   "source": [
    "# Load optimized model\n",
    "model_trt = TRTModule()\n",
    "model_trt.load_state_dict(torch.load(OPTIMIZED_MODEL))\n",
    "parse_objects = ParseObjects(topology)\n",
    "draw_objects = DrawObjects(topology)"
   ]
  },
  {
   "cell_type": "code",
   "execution_count": 15,
   "metadata": {},
   "outputs": [],
   "source": [
    "# TEST W/ WEBCAM:\n",
    "# camera = USBCamera(width=WIDTH, height=HEIGHT, capture_fps=30)\n",
    "# camera.running = True\n",
    "# execute({'new': camera.value})\n",
    "# cap = cv.VideoCapture(0)\n",
    "image_w = ipywidgets.Image(format='jpeg')"
   ]
  },
  {
   "cell_type": "code",
   "execution_count": 16,
   "metadata": {},
   "outputs": [],
   "source": [
    "# camera.cap.release()"
   ]
  },
  {
   "cell_type": "code",
   "execution_count": 17,
   "metadata": {},
   "outputs": [],
   "source": [
    "def execute(change):\n",
    "    image = change['new']\n",
    "    data = preprocess(image)\n",
    "    cmap, paf = model_trt(data)\n",
    "    cmap, paf = cmap.detach().cpu(), paf.detach().cpu()\n",
    "    counts, objects, peaks = parse_objects(cmap, paf)#, cmap_threshold=0.15, link_threshold=0.15)\n",
    "    draw_objects(image, counts, objects, peaks)\n",
    "    image_w.value = bgr8_to_jpeg(image)\n",
    "    return image"
   ]
  },
  {
   "cell_type": "code",
   "execution_count": 18,
   "metadata": {},
   "outputs": [
    {
     "data": {
      "application/vnd.jupyter.widget-view+json": {
       "model_id": "36a3eab84fe94d58a746ca02b442c125",
       "version_major": 2,
       "version_minor": 0
      },
      "text/plain": [
       "Image(value=b'', format='jpeg')"
      ]
     },
     "metadata": {},
     "output_type": "display_data"
    }
   ],
   "source": [
    "display(image_w)"
   ]
  },
  {
   "cell_type": "code",
   "execution_count": 19,
   "metadata": {},
   "outputs": [
    {
     "data": {
      "text/plain": [
       "<matplotlib.image.AxesImage object at 0x7fc79da52fd0>"
      ]
     },
     "execution_count": 19,
     "metadata": {},
     "output_type": "execute_result"
    },
    {
     "data": {
      "image/png": "[encoded data removed]",
      "text/plain": [
       "<Figure size 1728x864 with 2 Axes>"
      ]
     },
     "metadata": {
      "needs_background": "light"
     },
     "output_type": "display_data"
    }
   ],
   "source": [
    "# Results\n",
    "# Check training data\n",
    "img, skeleton = Htrain.data[21], Htrain.target[21]\n",
    "skeleton = np.rint(skeleton).astype(int)\n",
    "fig = plt.figure(figsize=(24,12))\n",
    "ax1 = fig.add_subplot(2,2,1)\n",
    "ax1.imshow(img)\n",
    "# img2 = img.copy()\n",
    "# Draw joints\n",
    "# for joint in skeleton:\n",
    "#     img2 = cv.circle(img2, (joint[0], joint[1]), 5, (0, 100, 255), thickness=-1, lineType=cv.FILLED)\n",
    "# Connect joints\n",
    "# for link in pairs:\n",
    "#     A = link[0]\n",
    "#     B = link[1]\n",
    "#     img2 = cv.line(img2, tuple(skeleton[A]), tuple(skeleton[B]), (0, 255, 0), 3)\n",
    "\n",
    "# ax2 = fig.add_subplot(2,2,2)\n",
    "# ax2.imshow(img2)\n",
    "\n",
    "# Show results of trt-pose\n",
    "res = execute({'new': img.copy()})\n",
    "ax2 = fig.add_subplot(2,2,2)\n",
    "ax2.imshow(res)"
   ]
  },
  {
   "cell_type": "code",
   "execution_count": 20,
   "metadata": {},
   "outputs": [],
   "source": [
    "# camera.unobserve_all()"
   ]
  }
 ],
 "metadata": {
  "file_extension": ".py",
  "kernelspec": {
   "display_name": "Python 3",
   "language": "python",
   "name": "python3"
  },
  "language_info": {
   "codemirror_mode": {
    "name": "ipython",
    "version": 3
   },
   "file_extension": ".py",
   "mimetype": "text/x-python",
   "name": "python",
   "nbconvert_exporter": "python",
   "pygments_lexer": "ipython3",
   "version": "3.6.9"
  },
  "mimetype": "text/x-python",
  "name": "python",
  "npconvert_exporter": "python",
  "pygments_lexer": "ipython3",
  "version": 3
 },
 "nbformat": 4,
 "nbformat_minor": 2
}
